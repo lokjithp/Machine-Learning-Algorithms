{
 "cells": [
  {
   "cell_type": "markdown",
   "id": "acfa870b",
   "metadata": {},
   "source": [
    "### K nearest neighbors Algorithm:\n",
    "\n",
    "It's a supervised machine learning algorithm!\n",
    "\n",
    "We have K neighbors that we need to consider while calculating the label and if it's a regression problem, we need to consider the average of the labels of K neighbors and if it's a classification problem, then we need to apply the majority voting among the classes in the K neighbors.\n",
    "\n",
    "How do you find out the nearest neighbors:\n",
    "\n",
    "We have various kind of distance measures that's available to find out the K nearest neighbors!\n",
    "\n",
    "Most famous distance measure is Euclidean distance which is the square root of the squared difference between the two points!\n",
    "\n",
    "\n",
    "\n"
   ]
  },
  {
   "cell_type": "markdown",
   "id": "479ba2ec",
   "metadata": {},
   "source": [
    "If the points are (x1,x2) and (z1,z2) then the Euclidean distance between them will become \n",
    "\\begin{equation*}\n",
    "\\sqrt{(z1-x1)^2+(z2-x2)^2}\n",
    "\\end{equation*}"
   ]
  },
  {
   "cell_type": "markdown",
   "id": "6bc90441",
   "metadata": {},
   "source": [
    "The default distance metric used in sklearn is Minkowski distance with p=2 which is equivalent to the Eudlidean distance\n",
    "\\begin{equation*}\n",
    "{\\displaystyle D\\left(X,Y\\right)=\\left(\\sum _{i=1}^{n}|x_{i}-y_{i}|^{p}\\right)^{\\frac {1}{p}}.}\n",
    "\\end{equation*}"
   ]
  },
  {
   "cell_type": "markdown",
   "id": "8e51a576",
   "metadata": {},
   "source": [
    "### Type of Problem:\n",
    "   \n",
    "Now we need to get to know about the type of problem that we are solving: either regression or the classification!\n",
    "\n",
    "what's actually the difference:<br>\n",
    "    Regression is something where the labels are quantitative values like a number that actually represents something like the price of an item etc.<br>\n",
    "    \n",
    "Classification is something where the labels belongs to a class of values like whether it's a yes or no , if it's a binary problem or is it something that belongs to a group of classes like type of bikes or cars etc.\n",
    "    "
   ]
  },
  {
   "cell_type": "markdown",
   "id": "7796614a",
   "metadata": {},
   "source": [
    "##### how will you determine the label in case of Regression problem and a classification problem?\n",
    "\n",
    "In case of regression, we will consider the K neighbors labels and average them to get the predicted label.\n",
    "\n",
    "In case of classification, we will consider the K neighbors labels and do a majority voting such that we will predict the label's class to be the majority class among the K neighbors.\n",
    "\n",
    "If there's a tie, we can apply any tie breaking strategy to predict the outcome!\n"
   ]
  },
  {
   "cell_type": "markdown",
   "id": "7d6b146b",
   "metadata": {},
   "source": [
    "Let's work on this algorithm in real!"
   ]
  },
  {
   "cell_type": "markdown",
   "id": "9b7441ee",
   "metadata": {},
   "source": [
    "Initially, loading up the required libraries! numpy is used for various mathematical operations! <br>\n",
    "sklearn.datasets contain various toy datasets <br>\n",
    "sklearn.model_selection contains all the functions related to working on various datasets!<br>"
   ]
  },
  {
   "cell_type": "code",
   "execution_count": 1,
   "id": "ae734932",
   "metadata": {},
   "outputs": [],
   "source": [
    "import numpy as np\n",
    "from sklearn.datasets import load_iris\n",
    "from sklearn.model_selection import train_test_split\n"
   ]
  },
  {
   "cell_type": "markdown",
   "id": "654c823f",
   "metadata": {},
   "source": [
    "now, in the below code, iris variable stores the entire dataset along with it's description etc which is actually a bunch object \n",
    "which is just like a dictionary of various attributes!"
   ]
  },
  {
   "cell_type": "code",
   "execution_count": 2,
   "id": "0fc71a33",
   "metadata": {},
   "outputs": [],
   "source": [
    "iris=load_iris()"
   ]
  },
  {
   "cell_type": "markdown",
   "id": "c30e94a2",
   "metadata": {},
   "source": [
    "iris now contains data and target array with the values of the data and the labels, a descr which explains what's this dataset is all about and feature_names containing what does each column in the dataset represents and target_names like what does the target values or the labels mean!\n"
   ]
  },
  {
   "cell_type": "markdown",
   "id": "802ea4d6",
   "metadata": {},
   "source": [
    "Iris dataset is basically a classification type of problem where the labels are the type of Iris flower which is classified as Setosa, Versicolor or virginica depending on the features like sepal and petal's length and width! we can actually witness the data using matplotlib!"
   ]
  },
  {
   "cell_type": "code",
   "execution_count": 3,
   "id": "5cedcb47",
   "metadata": {},
   "outputs": [],
   "source": [
    "import matplotlib.pyplot as plt\n",
    "import seaborn as sns\n"
   ]
  },
  {
   "cell_type": "code",
   "execution_count": 4,
   "id": "0319f98d",
   "metadata": {},
   "outputs": [
    {
     "data": {
      "text/plain": [
       "Text(0, 0.5, 'sepal width')"
      ]
     },
     "execution_count": 4,
     "metadata": {},
     "output_type": "execute_result"
    },
    {
     "data": {
      "image/png": "[encoded data removed]",
      "text/plain": [
       "<Figure size 432x288 with 1 Axes>"
      ]
     },
     "metadata": {
      "needs_background": "light"
     },
     "output_type": "display_data"
    }
   ],
   "source": [
    "plt.scatter(iris['data'][:,0],iris['data'][:,1],c=iris['target'])\n",
    "plt.xlabel('sepal length')\n",
    "plt.ylabel('sepal width')"
   ]
  },
  {
   "cell_type": "markdown",
   "id": "5ba64455",
   "metadata": {},
   "source": [
    "We can see that in the two dimensional space, the data is organized as various classes and each color here indicates one target class."
   ]
  },
  {
   "cell_type": "markdown",
   "id": "9057bb1c",
   "metadata": {},
   "source": [
    "Below are the various target classes that we can get and these are labeled values in target data like 0 to be setosa, 1 to be versicolor and 2 to be virginica!"
   ]
  },
  {
   "cell_type": "code",
   "execution_count": 5,
   "id": "aa496196",
   "metadata": {},
   "outputs": [
    {
     "name": "stdout",
     "output_type": "stream",
     "text": [
      "['setosa' 'versicolor' 'virginica']\n"
     ]
    }
   ],
   "source": [
    "print(iris['target_names'])"
   ]
  },
  {
   "cell_type": "code",
   "execution_count": 6,
   "id": "de95ebe8",
   "metadata": {},
   "outputs": [
    {
     "name": "stdout",
     "output_type": "stream",
     "text": [
      "['sepal length (cm)', 'sepal width (cm)', 'petal length (cm)', 'petal width (cm)']\n"
     ]
    }
   ],
   "source": [
    "print(iris['feature_names'])"
   ]
  },
  {
   "cell_type": "markdown",
   "id": "b6193d84",
   "metadata": {},
   "source": [
    "We have a total of 150 rows of data out of which we need few of them to be out training set and few to be our testing set! Now for this we need to split the data and this can be done with the help of train_test_split function of sklearn! <br>\n",
    "\n",
    "This will result in 4 variables which are to be stored as X_train, X_test,y_train and y_test! The X's indicates the feature related data and the y's indicate the labels!"
   ]
  },
  {
   "cell_type": "code",
   "execution_count": 7,
   "id": "e1279822",
   "metadata": {},
   "outputs": [
    {
     "name": "stdout",
     "output_type": "stream",
     "text": [
      "(150, 4)\n"
     ]
    }
   ],
   "source": [
    "print(iris['data'].shape)"
   ]
  },
  {
   "cell_type": "code",
   "execution_count": 8,
   "id": "26ca64b8",
   "metadata": {},
   "outputs": [
    {
     "name": "stdout",
     "output_type": "stream",
     "text": [
      "(150,)\n"
     ]
    }
   ],
   "source": [
    "print(iris['target'].shape)"
   ]
  },
  {
   "cell_type": "code",
   "execution_count": 9,
   "id": "3657ef05",
   "metadata": {},
   "outputs": [],
   "source": [
    "X_train,X_test,y_train,y_test=train_test_split(iris['data'],iris['target'],random_state=0)\n"
   ]
  },
  {
   "cell_type": "code",
   "execution_count": 10,
   "id": "270e88e5",
   "metadata": {},
   "outputs": [
    {
     "name": "stdout",
     "output_type": "stream",
     "text": [
      "(112, 4) (112,)\n"
     ]
    }
   ],
   "source": [
    "print(X_train.shape,y_train.shape)"
   ]
  },
  {
   "cell_type": "code",
   "execution_count": 11,
   "id": "4a92e21d",
   "metadata": {},
   "outputs": [
    {
     "name": "stdout",
     "output_type": "stream",
     "text": [
      "(38, 4) (38,)\n"
     ]
    }
   ],
   "source": [
    "print(X_test.shape,y_test.shape)"
   ]
  },
  {
   "cell_type": "markdown",
   "id": "03f73ed2",
   "metadata": {},
   "source": [
    "Now, I'm building the K Nearest Neighbors Classifier model to predict the target type depending on the sepal and petal length and width."
   ]
  },
  {
   "cell_type": "code",
   "execution_count": 12,
   "id": "79f38863",
   "metadata": {},
   "outputs": [],
   "source": [
    "from sklearn.neighbors import KNeighborsClassifier\n",
    "knn=KNeighborsClassifier(n_neighbors=1)\n"
   ]
  },
  {
   "cell_type": "markdown",
   "id": "a59c9bd7",
   "metadata": {},
   "source": [
    "Now, the model is been loaded with the neighbors value set to 1 which mean that only the nearest neighbor influences the model's prediction. Now, in the next steps, I will fit the model on my training data, remember that the model is needed to be fit on the training data and predictions are needed to be done on the testing data. Let's see this in action!"
   ]
  },
  {
   "cell_type": "code",
   "execution_count": 13,
   "id": "dc2b9c40",
   "metadata": {},
   "outputs": [
    {
     "data": {
      "text/plain": [
       "KNeighborsClassifier(n_neighbors=1)"
      ]
     },
     "execution_count": 13,
     "metadata": {},
     "output_type": "execute_result"
    }
   ],
   "source": [
    "knn.fit(X_train, y_train)\n"
   ]
  },
  {
   "cell_type": "markdown",
   "id": "3bde7d10",
   "metadata": {},
   "source": [
    "Now, the model is fitted on the training data and now we can call predict method over the testing dataset."
   ]
  },
  {
   "cell_type": "code",
   "execution_count": 14,
   "id": "b9db8f66",
   "metadata": {},
   "outputs": [],
   "source": [
    "y_pred=knn.predict(X_test)"
   ]
  },
  {
   "cell_type": "code",
   "execution_count": 15,
   "id": "9a8c4a9a",
   "metadata": {},
   "outputs": [
    {
     "data": {
      "text/plain": [
       "array([2, 1, 0, 2, 0, 2, 0, 1, 1, 1, 2, 1, 1, 1, 1, 0, 1, 1, 0, 0, 2, 1,\n",
       "       0, 0, 2, 0, 0, 1, 1, 0, 2, 1, 0, 2, 2, 1, 0, 2])"
      ]
     },
     "execution_count": 15,
     "metadata": {},
     "output_type": "execute_result"
    }
   ],
   "source": [
    "y_pred"
   ]
  },
  {
   "cell_type": "code",
   "execution_count": 16,
   "id": "053eb926",
   "metadata": {},
   "outputs": [
    {
     "data": {
      "text/plain": [
       "array([2, 1, 0, 2, 0, 2, 0, 1, 1, 1, 2, 1, 1, 1, 1, 0, 1, 1, 0, 0, 2, 1,\n",
       "       0, 0, 2, 0, 0, 1, 1, 0, 2, 1, 0, 2, 2, 1, 0, 1])"
      ]
     },
     "execution_count": 16,
     "metadata": {},
     "output_type": "execute_result"
    }
   ],
   "source": [
    "y_test"
   ]
  },
  {
   "cell_type": "markdown",
   "id": "d3140703",
   "metadata": {},
   "source": [
    "remember that y_pred is our predictions made from the model knn and y_test are the true or original labels, now we need to compare them to get the accuracy of our model predictions"
   ]
  },
  {
   "cell_type": "markdown",
   "id": "a8846fbf",
   "metadata": {},
   "source": [
    "This is a great measure of score where we just compare the predicted and true labels and find the mean which tells us out of all the labels, how much of them are actually equal to the predictions!\n",
    "This is a good measure metric for the classification problems!"
   ]
  },
  {
   "cell_type": "code",
   "execution_count": 17,
   "id": "042b08f6",
   "metadata": {},
   "outputs": [
    {
     "data": {
      "text/plain": [
       "0.9736842105263158"
      ]
     },
     "execution_count": 17,
     "metadata": {},
     "output_type": "execute_result"
    }
   ],
   "source": [
    "np.mean(y_pred==y_test)"
   ]
  },
  {
   "cell_type": "markdown",
   "id": "7419214c",
   "metadata": {},
   "source": [
    "Well, we can use default method by scikit learn to get to know about the accuracy."
   ]
  },
  {
   "cell_type": "code",
   "execution_count": 18,
   "id": "3582211d",
   "metadata": {},
   "outputs": [
    {
     "data": {
      "text/plain": [
       "0.9736842105263158"
      ]
     },
     "execution_count": 18,
     "metadata": {},
     "output_type": "execute_result"
    }
   ],
   "source": [
    "knn.score(X_test,y_test)"
   ]
  },
  {
   "cell_type": "markdown",
   "id": "393fa931",
   "metadata": {},
   "source": [
    "Now, let's build another model with nearest neighbors as 3, we just need to keep the n_neighbors value to be 3 for this model!\n"
   ]
  },
  {
   "cell_type": "code",
   "execution_count": 19,
   "id": "f9922d64",
   "metadata": {},
   "outputs": [
    {
     "name": "stdout",
     "output_type": "stream",
     "text": [
      "The accuracy is  0.9736842105263158\n"
     ]
    }
   ],
   "source": [
    "knn3=KNeighborsClassifier(n_neighbors=3)\n",
    "knn3.fit(X_train,y_train)\n",
    "y_pred3=knn3.predict(X_test)\n",
    "print('The accuracy is ', np.mean(y_pred3==y_test))"
   ]
  },
  {
   "cell_type": "code",
   "execution_count": 20,
   "id": "159b63c0",
   "metadata": {},
   "outputs": [
    {
     "data": {
      "text/plain": [
       "array([2, 1, 0, 2, 0, 2, 0, 1, 1, 1, 2, 1, 1, 1, 1, 0, 1, 1, 0, 0, 2, 1,\n",
       "       0, 0, 2, 0, 0, 1, 1, 0, 2, 1, 0, 2, 2, 1, 0, 2])"
      ]
     },
     "execution_count": 20,
     "metadata": {},
     "output_type": "execute_result"
    }
   ],
   "source": [
    "y_pred3"
   ]
  },
  {
   "cell_type": "markdown",
   "id": "7aad7d0e",
   "metadata": {},
   "source": [
    "There's not much difference in terms of improvement in accuracy."
   ]
  },
  {
   "cell_type": "markdown",
   "id": "86c154e2",
   "metadata": {},
   "source": [
    "This is the first notebook of mine and in the next notebook, I will check on various algorithms "
   ]
  },
  {
   "cell_type": "markdown",
   "id": "fadcbb79",
   "metadata": {},
   "source": [
    "## How to explain KNN for a 5 year old!\n",
    "\n",
    "Consider the homes in a country but each home belongs to a particular state and to decide the state of any new home, we choose the nearest neighbor for that home and assign that state to the new home which is fair and if we want to be more accurate  then we choose to have more than one neighbor during calculation and assign depending on whose state's neighbors are high among K neighbors!"
   ]
  },
  {
   "cell_type": "markdown",
   "id": "ab1b7743",
   "metadata": {},
   "source": [
    "## What about bias and variance for KNN: \n",
    "\n",
    "Bias is related to how much the model is able to find out the actual true patterns in the data and variance is related to how accurate the model finds out for a new dataset!\n",
    "\n",
    "If the K value is low then there's a higher variance because the model will be finding out nearest neighbors which changes for each test label whereas if the K value is higher, then there's chance that the model tries to classify generally a border so that it would work fine even with a new dataset!\n",
    "\n",
    "So, increasing K will lead to decrease in variance and a slight chance of increasing in bias!\n"
   ]
  },
  {
   "cell_type": "code",
   "execution_count": null,
   "id": "37f9fd20",
   "metadata": {},
   "outputs": [],
   "source": []
  }
 ],
 "metadata": {
  "kernelspec": {
   "display_name": "Python 3",
   "language": "python",
   "name": "python3"
  },
  "language_info": {
   "codemirror_mode": {
    "name": "ipython",
    "version": 3
   },
   "file_extension": ".py",
   "mimetype": "text/x-python",
   "name": "python",
   "nbconvert_exporter": "python",
   "pygments_lexer": "ipython3",
   "version": "3.9.5"
  }
 },
 "nbformat": 4,
 "nbformat_minor": 5
}
